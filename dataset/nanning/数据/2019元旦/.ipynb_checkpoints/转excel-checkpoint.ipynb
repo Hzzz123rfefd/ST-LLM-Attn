{
 "cells": [
  {
   "cell_type": "code",
   "execution_count": 1,
   "id": "1646c5d2-7330-4b02-866f-0be05441249c",
   "metadata": {},
   "outputs": [],
   "source": [
    "import numpy as np"
   ]
  },
  {
   "cell_type": "code",
   "execution_count": 5,
   "id": "ac35c028-77d1-44ac-b47c-bd33e0187340",
   "metadata": {},
   "outputs": [],
   "source": [
    "inflow_data = np.load(\"inflow_data_15min.npy\")\n",
    "outflow_data = np.load(\"outflow_data_15min.npy\")"
   ]
  },
  {
   "cell_type": "code",
   "execution_count": 6,
   "id": "e2de4dc5-1e38-4151-8826-e8f9eb2ce5eb",
   "metadata": {},
   "outputs": [],
   "source": [
    "np.savetxt('inflow.csv', inflow_data, delimiter=',')\n",
    "np.savetxt('outflow.csv', outflow_data, delimiter=',')"
   ]
  },
  {
   "cell_type": "code",
   "execution_count": null,
   "id": "8bd24354-4335-422f-885e-cfc6d21f3e61",
   "metadata": {},
   "outputs": [],
   "source": []
  }
 ],
 "metadata": {
  "kernelspec": {
   "display_name": "Python 3 (ipykernel)",
   "language": "python",
   "name": "python3"
  },
  "language_info": {
   "codemirror_mode": {
    "name": "ipython",
    "version": 3
   },
   "file_extension": ".py",
   "mimetype": "text/x-python",
   "name": "python",
   "nbconvert_exporter": "python",
   "pygments_lexer": "ipython3",
   "version": "3.10.11"
  }
 },
 "nbformat": 4,
 "nbformat_minor": 5
}
